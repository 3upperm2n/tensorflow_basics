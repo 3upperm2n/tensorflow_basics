{
 "cells": [
  {
   "cell_type": "code",
   "execution_count": 1,
   "metadata": {},
   "outputs": [],
   "source": [
    "# To support both python 2 and python 3\n",
    "from __future__ import division, print_function, unicode_literals\n",
    "\n",
    "# Common imports\n",
    "import numpy as np\n",
    "import os\n",
    "\n",
    "import tensorflow as tf\n",
    "\n",
    "from datetime import datetime"
   ]
  },
  {
   "cell_type": "code",
   "execution_count": 2,
   "metadata": {},
   "outputs": [],
   "source": [
    "# to make this notebook's output stable across runs\n",
    "def reset_graph(seed=42):\n",
    "    tf.reset_default_graph()\n",
    "    tf.set_random_seed(seed)\n",
    "    np.random.seed(seed)"
   ]
  },
  {
   "cell_type": "code",
   "execution_count": 3,
   "metadata": {},
   "outputs": [],
   "source": [
    "from IPython.display import Image"
   ]
  },
  {
   "cell_type": "markdown",
   "metadata": {},
   "source": [
    "### build a simple NN for  MNIST dataset"
   ]
  },
  {
   "cell_type": "markdown",
   "metadata": {},
   "source": [
    "load the mnist dataset"
   ]
  },
  {
   "cell_type": "code",
   "execution_count": 4,
   "metadata": {},
   "outputs": [],
   "source": [
    "(X_train, y_train), (X_test, y_test) = tf.keras.datasets.mnist.load_data()\n",
    "\n",
    "X_train = X_train.astype(np.float32).reshape(-1, 28*28) / 255.0\n",
    "X_test = X_test.astype(np.float32).reshape(-1, 28*28) / 255.0\n",
    "\n",
    "y_train = y_train.astype(np.int32)\n",
    "y_test = y_test.astype(np.int32)\n",
    "\n",
    "X_valid, X_train = X_train[:5000], X_train[5000:]\n",
    "y_valid, y_train = y_train[:5000], y_train[5000:]"
   ]
  },
  {
   "cell_type": "code",
   "execution_count": 5,
   "metadata": {},
   "outputs": [],
   "source": [
    "n_inputs = 28*28  # MNIST\n",
    "n_hidden1 = 30\n",
    "n_outputs = 10 # digits 0-9, 10 classes\n",
    "\n",
    "\n",
    "reset_graph()\n",
    "# if batch size is 64, then x is 64 x 784\n",
    "# if batch size is 128, then x is 128 x 784\n",
    "X = tf.placeholder(tf.float32, shape=(None, n_inputs), name=\"input\")   # \"None\" is for batch size\n",
    "y = tf.placeholder(tf.int32, shape=(None), name=\"y\")\n",
    "\n",
    "x_image = tf.reshape(X,[-1,28,28,1])  # reshpae for 2d conv"
   ]
  },
  {
   "cell_type": "code",
   "execution_count": 6,
   "metadata": {},
   "outputs": [],
   "source": [
    "learning_rate = 0.01\n",
    "\n",
    "with tf.name_scope(\"dnn\"):\n",
    "#     conv1 = tf.layers.conv2d(x_image,  4, kernel_size=3, padding='same', name=\"conv1\", use_bias=False)\n",
    "#     conv2 = tf.layers.conv2d(conv1,  4, kernel_size=3, padding='same', name=\"conv2\", use_bias=False)\n",
    "    \n",
    "    conv1 = tf.layers.conv2d(x_image,  4, kernel_size=3, padding='same', name=\"conv1\", use_bias=True)\n",
    "    conv2 = tf.layers.conv2d(conv1,  4, kernel_size=3, padding='same', name=\"conv2\", use_bias=True)\n",
    "    \n",
    "    hidden1 = tf.layers.dense(tf.contrib.layers.flatten(conv2),   n_hidden1, name=\"hidden1\", activation=tf.nn.relu)\n",
    "    logits = tf.layers.dense(hidden1, n_outputs, name=\"outputs\")\n",
    "    y_proba = tf.nn.softmax(logits)\n",
    "    \n",
    "with tf.name_scope(\"loss\"):\n",
    "    xentropy = tf.nn.sparse_softmax_cross_entropy_with_logits(labels=y, logits=logits)\n",
    "    loss = tf.reduce_mean(xentropy, name=\"loss\")\n",
    "\n",
    "with tf.name_scope(\"train\"):\n",
    "    optimizer = tf.train.GradientDescentOptimizer(learning_rate)\n",
    "    training_op = optimizer.minimize(loss)   \n",
    "\n",
    "with tf.name_scope(\"eval\"):\n",
    "    correct = tf.nn.in_top_k(logits, y, 1)\n",
    "    accuracy = tf.reduce_mean(tf.cast(correct, tf.float32))\n",
    "    \n",
    "    \n",
    "for v in tf.trainable_variables():\n",
    "    if \"conv\" in v.name and \"kernel\" in v.name:\n",
    "        # 3 x 3 x 1 x 4\n",
    "        img_kernels = v\n",
    "        \n",
    "        #print(type(img_kernels))\n",
    "        #print(img_kernels.shape)\n",
    "        \n",
    "        # 4 x 3 x 3 x 1 (one kernel per activation map and channel)\n",
    "        img_kernels = tf.transpose(img_kernels, perm=[3, 0, 1, 2])\n",
    "        # 4 x 3 x 3 x 1 (one kernel per activation map)\n",
    "        img_kernels = tf.reduce_mean(img_kernels, axis=3, keep_dims=True)\n",
    "        \n",
    "        v_name = v.name[:-2]\n",
    "        #print(v_name)\n",
    "        \n",
    "        tf.summary.image(v_name, img_kernels, max_outputs=4)\n",
    "\n",
    "    \n",
    "\n",
    "\n",
    "\n",
    "\n",
    "summary = tf.summary.merge_all()\n",
    "\n",
    "\n",
    "if summary == None:\n",
    "    raise Exception(\"No summaries\")\n"
   ]
  },
  {
   "cell_type": "code",
   "execution_count": 7,
   "metadata": {},
   "outputs": [],
   "source": [
    "#tf.trainable_variables()"
   ]
  },
  {
   "cell_type": "code",
   "execution_count": 8,
   "metadata": {},
   "outputs": [],
   "source": [
    "init = tf.global_variables_initializer()\n",
    "saver = tf.train.Saver()"
   ]
  },
  {
   "cell_type": "code",
   "execution_count": null,
   "metadata": {},
   "outputs": [],
   "source": [
    "def shuffle_batch(X, y, batch_size):\n",
    "    rnd_idx = np.random.permutation(len(X))\n",
    "    n_batches = len(X) // batch_size\n",
    "    for batch_idx in np.array_split(rnd_idx, n_batches):\n",
    "        X_batch, y_batch = X[batch_idx], y[batch_idx]\n",
    "        yield X_batch, y_batch"
   ]
  },
  {
   "cell_type": "code",
   "execution_count": null,
   "metadata": {},
   "outputs": [
    {
     "name": "stdout",
     "output_type": "stream",
     "text": [
      "./log-testFilter/2018-6-26_13-20\n",
      "0 Batch accuracy: 0.98 Validation accuracy: 0.9356\n",
      "1 Batch accuracy: 0.96 Validation accuracy: 0.9488\n",
      "2 Batch accuracy: 0.96 Validation accuracy: 0.9546\n"
     ]
    }
   ],
   "source": [
    "n_epochs = 8\n",
    "batch_size = 50\n",
    "\n",
    "with tf.Session() as sess:\n",
    "    \n",
    "    now = datetime.now()\n",
    "    curTime = str(now.year) + '-' + str(now.month) + '-' + str(now.day) +\\\n",
    "            '_' + str(now.hour) + '-' + str(now.minute)\n",
    "\n",
    "    logFile = './log-testFilter/' + curTime\n",
    "\n",
    "    print(logFile)\n",
    "    \n",
    "    summary_writer = tf.summary.FileWriter(logFile, sess.graph)\n",
    "    \n",
    "    init.run()\n",
    "    for epoch in range(n_epochs):\n",
    "        for X_batch, y_batch in shuffle_batch(X_train, y_train, batch_size):\n",
    "            training_v = sess.run([training_op], feed_dict={X: X_batch, y: y_batch})\n",
    "            #print(loss_v)\n",
    "            \n",
    "        acc_batch = accuracy.eval(feed_dict={X: X_batch, y: y_batch})\n",
    "        acc_valid = accuracy.eval(feed_dict={X: X_valid, y: y_valid})\n",
    "        \n",
    "        print(epoch, \"Batch accuracy:\", acc_batch, \"Validation accuracy:\", acc_valid)\n",
    "\n",
    "        if epoch % 2 == 0:\n",
    "            # write summary\n",
    "            summary_str = sess.run(summary, feed_dict={X: X_valid, y: y_valid})\n",
    "            summary_writer.add_summary(summary_str, epoch)\n",
    "            summary_writer.flush()\n",
    "        \n",
    "        \n",
    "        \n",
    "    save_path = saver.save(sess, \"./model_testFilter.ckpt\")"
   ]
  },
  {
   "cell_type": "markdown",
   "metadata": {},
   "source": [
    "### visualize filters"
   ]
  },
  {
   "cell_type": "code",
   "execution_count": null,
   "metadata": {},
   "outputs": [],
   "source": [
    "# Open the terminal and run the Tensorboard command with you log file location.\n",
    "# tensorboard --logdir=./log-testFilter/xxxxx"
   ]
  },
  {
   "cell_type": "code",
   "execution_count": null,
   "metadata": {},
   "outputs": [],
   "source": [
    "Image(filename='figs/tensorboard_kernel_img.png', width=500, height=500)"
   ]
  },
  {
   "cell_type": "markdown",
   "metadata": {},
   "source": [
    "Reference:\n",
    "\n",
    "* https://gist.github.com/kukuruza/03731dc494603ceab0c5 \n",
    "\n",
    "* https://gitup.uni-potsdam.de/sadler/intro-deep-learning/blob/0e79b471c4f1581a4332f86ae75bbeb402fa7d1e/python/main/tf/mnist/LeNet.py"
   ]
  }
 ],
 "metadata": {
  "kernelspec": {
   "display_name": "Python 2",
   "language": "python",
   "name": "python2"
  },
  "language_info": {
   "codemirror_mode": {
    "name": "ipython",
    "version": 2
   },
   "file_extension": ".py",
   "mimetype": "text/x-python",
   "name": "python",
   "nbconvert_exporter": "python",
   "pygments_lexer": "ipython2",
   "version": "2.7.14"
  }
 },
 "nbformat": 4,
 "nbformat_minor": 2
}
