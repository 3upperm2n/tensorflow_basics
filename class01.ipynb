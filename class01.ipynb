{
 "cells": [
  {
   "cell_type": "markdown",
   "metadata": {},
   "source": [
    "# Background"
   ]
  },
  {
   "cell_type": "markdown",
   "metadata": {},
   "source": [
    "Deep-Learning Package Zoo\n",
    "* Torch\n",
    "* Caffe\n",
    "* Theano (Keras, Lasagne)\n",
    "* CuDNN\n",
    "* Tensorflow \n",
    "* Mxnet\n",
    "* etc."
   ]
  },
  {
   "cell_type": "markdown",
   "metadata": {},
   "source": [
    "### package design choices"
   ]
  },
  {
   "cell_type": "markdown",
   "metadata": {},
   "source": [
    "* Model specification: Configuration file (e.g. Caffe, DistBelief, CNTK) \n",
    "* programmatic generation (e.g. Torch, Theano, Tensorflow)\n",
    "    * choice of high-level language: Lua (Torch) vs. Python (Theano, Tensorflow) vs others.\n",
    "    * python has rich community and library infrastructure."
   ]
  },
  {
   "cell_type": "markdown",
   "metadata": {},
   "source": [
    "### Theano VS TensorFlow"
   ]
  },
  {
   "cell_type": "markdown",
   "metadata": {},
   "source": [
    "* Theano and TensorFlow are very similar systems\n",
    "* TensorFlow has better support for distributed systems though, and has development funded by Google\n",
    "* Theano is an academic project."
   ]
  },
  {
   "cell_type": "markdown",
   "metadata": {},
   "source": [
    "### Tensor Definition"
   ]
  },
  {
   "cell_type": "code",
   "execution_count": 1,
   "metadata": {
    "collapsed": true
   },
   "outputs": [],
   "source": [
    "from IPython.display import Image"
   ]
  },
  {
   "cell_type": "markdown",
   "metadata": {},
   "source": [
    "![tensor_def](figs/tensor_def.png)"
   ]
  },
  {
   "cell_type": "markdown",
   "metadata": {},
   "source": [
    "### tensorflow vs numpy"
   ]
  },
  {
   "cell_type": "markdown",
   "metadata": {},
   "source": [
    "* TensorFlow and Numpy are quite similar. Both are N-d array libraries!\n",
    "* Numpy has Ndarray support, but doesn’t offer methods to create tensor functions and automatically compute derivatives (+ no GPU support)."
   ]
  },
  {
   "cell_type": "markdown",
   "metadata": {},
   "source": [
    "![np_vs_tf](figs/np_vs_tf.png)"
   ]
  },
  {
   "cell_type": "markdown",
   "metadata": {},
   "source": [
    "### Exe01"
   ]
  },
  {
   "cell_type": "raw",
   "metadata": {},
   "source": [
    "TensorFlow computations define a computation graph that has no numerical value until evaluated."
   ]
  },
  {
   "cell_type": "code",
   "execution_count": 2,
   "metadata": {
    "collapsed": true
   },
   "outputs": [],
   "source": [
    "import tensorflow as tf"
   ]
  },
  {
   "cell_type": "code",
   "execution_count": 3,
   "metadata": {},
   "outputs": [
    {
     "name": "stdout",
     "output_type": "stream",
     "text": [
      "Tensor(\"zeros:0\", shape=(2, 2), dtype=float32)\n"
     ]
    }
   ],
   "source": [
    "# this is just a computation graph\n",
    "ta = tf.zeros((2,2))\n",
    "print(ta)"
   ]
  },
  {
   "cell_type": "code",
   "execution_count": 4,
   "metadata": {},
   "outputs": [
    {
     "name": "stdout",
     "output_type": "stream",
     "text": [
      "[[ 0.  0.]\n",
      " [ 0.  0.]]\n"
     ]
    }
   ],
   "source": [
    "init = tf.global_variables_initializer()   # create nodes in the graph\n",
    "sess = tf.Session() \n",
    "sess.run(init)  # initialize all the variables\n",
    "\n",
    "v = sess.run(ta)  \n",
    "print(v)\n",
    "\n",
    "sess.close()  # close the session "
   ]
  },
  {
   "cell_type": "markdown",
   "metadata": {},
   "source": [
    "### Some background knowledge"
   ]
  },
  {
   "cell_type": "markdown",
   "metadata": {},
   "source": [
    "* TensorFlow programs are usually structured into a construction phase, that assembles a graph, and an execution phase that uses a session to execute ops in the graph.\n",
    "\n",
    "* A Session object encapsulates the environment in which Tensor objects are evaluated.\n",
    "\n",
    "* All computations add nodes to global default graph\n"
   ]
  },
  {
   "cell_type": "markdown",
   "metadata": {},
   "source": [
    "### more elegant implementation"
   ]
  },
  {
   "cell_type": "code",
   "execution_count": 5,
   "metadata": {},
   "outputs": [
    {
     "name": "stdout",
     "output_type": "stream",
     "text": [
      "[[ 0.  0.]\n",
      " [ 0.  0.]]\n",
      "3\n",
      "b'hello'\n",
      "5.0\n"
     ]
    }
   ],
   "source": [
    "ta = tf.zeros((2,2))\n",
    "x = tf.Variable(3, name=\"x\") # variable objects can be initialized from constants or random values\n",
    "y = tf.Variable('hello', name=\"y\")\n",
    "z = tf.constant(5.0)\n",
    "R = tf.Variable(tf.random_normal((2,2)), name=\"random_weights\")  \n",
    "\n",
    "init = tf.global_variables_initializer()   # create nodes in the graph\n",
    "with tf.Session() as sess:\n",
    "    init.run()\n",
    "    print(sess.run(ta))\n",
    "    print(sess.run(x))\n",
    "    print(sess.run(y))\n",
    "    print(sess.run(z))"
   ]
  },
  {
   "cell_type": "markdown",
   "metadata": {},
   "source": [
    "### Why I should reset graph?"
   ]
  },
  {
   "cell_type": "markdown",
   "metadata": {},
   "source": [
    "In Jupyter (or in a Python shell), it is common to run the same commands more than once while\n",
    "you are experimenting. As a result, *** you may end up with a default graph containing many duplicate\n",
    "nodes ***. One solution is to restart the Jupyter kernel (or the Python shell), but a more convenient\n",
    "solution is to just reset the default graph by running tf.reset_default_graph().\n"
   ]
  },
  {
   "cell_type": "markdown",
   "metadata": {},
   "source": [
    "## Exe02"
   ]
  },
  {
   "cell_type": "raw",
   "metadata": {},
   "source": [
    "What is the difference between the following two versions?"
   ]
  },
  {
   "cell_type": "code",
   "execution_count": 6,
   "metadata": {},
   "outputs": [
    {
     "name": "stdout",
     "output_type": "stream",
     "text": [
      "10\n",
      "15\n"
     ]
    }
   ],
   "source": [
    "w = tf.constant(3)\n",
    "x = w + 2\n",
    "y = x + 5\n",
    "z = x * 3\n",
    "\n",
    "with tf.Session() as sess:\n",
    "    init.run()\n",
    "    print(y.eval())  # 10\n",
    "    print(z.eval())  # 15\n",
    "    #print(sess.run(y))\n",
    "    #print(sess.run(z))"
   ]
  },
  {
   "cell_type": "code",
   "execution_count": 7,
   "metadata": {},
   "outputs": [
    {
     "name": "stdout",
     "output_type": "stream",
     "text": [
      "10\n",
      "15\n"
     ]
    }
   ],
   "source": [
    "with tf.Session() as sess:\n",
    "    y_val, z_val = sess.run([y, z])\n",
    "    print(y_val)  # 10\n",
    "    print(z_val)  # 15"
   ]
  },
  {
   "cell_type": "markdown",
   "metadata": {},
   "source": [
    "### exe03"
   ]
  },
  {
   "cell_type": "raw",
   "metadata": {},
   "source": [
    "update tf variable in a for loop"
   ]
  },
  {
   "cell_type": "code",
   "execution_count": 8,
   "metadata": {},
   "outputs": [
    {
     "name": "stdout",
     "output_type": "stream",
     "text": [
      "0\n",
      "1\n",
      "2\n",
      "3\n"
     ]
    }
   ],
   "source": [
    "state = tf.Variable(0, name=\"counter\")\n",
    "#new_value = state + 1\n",
    "new_value = tf.add(state, tf.constant(1)) #  new_value = state + 1\n",
    "update = tf.assign(state, new_value)  #  state = new_value\n",
    "\n",
    "init = tf.global_variables_initializer()   # create nodes in the graph\n",
    "with tf.Session() as sess:\n",
    "    init.run()\n",
    "    print(sess.run(state))\n",
    "    for i in range(3):\n",
    "        sess.run(update)\n",
    "        print(sess.run(state))"
   ]
  },
  {
   "cell_type": "markdown",
   "metadata": {},
   "source": [
    "### input numpy array to tf"
   ]
  },
  {
   "cell_type": "code",
   "execution_count": 9,
   "metadata": {},
   "outputs": [
    {
     "name": "stdout",
     "output_type": "stream",
     "text": [
      "[[ 0.  0.  0.]\n",
      " [ 0.  0.  0.]\n",
      " [ 0.  0.  0.]]\n"
     ]
    }
   ],
   "source": [
    "import numpy as np\n",
    "\n",
    "a = np.zeros((3,3))\n",
    "ta = tf.convert_to_tensor(a)\n",
    "\n",
    "init = tf.global_variables_initializer()   # create nodes in the graph\n",
    "with tf.Session() as sess:\n",
    "    init.run()\n",
    "    print(sess.run(ta))"
   ]
  },
  {
   "cell_type": "markdown",
   "metadata": {},
   "source": [
    "### placeholder and feed dictionaries"
   ]
  },
  {
   "cell_type": "markdown",
   "metadata": {},
   "source": [
    "* Inputting data with tf.convert_to_tensor() is convenient, but doesn’t scale.\n",
    "* Use tf.placeholder variables (dummy nodes that provide entry points for data to computational graph).\n",
    "* A feed_dict is a python dictionary mapping from tf. placeholder vars (or their names) to data (numpy arrays, lists, etc.).\n",
    " "
   ]
  },
  {
   "cell_type": "code",
   "execution_count": 10,
   "metadata": {},
   "outputs": [
    {
     "name": "stdout",
     "output_type": "stream",
     "text": [
      "[array([ 14.], dtype=float32)]\n"
     ]
    }
   ],
   "source": [
    "input1 = tf.placeholder(tf.float32)\n",
    "input2 = tf.placeholder(tf.float32)\n",
    "\n",
    "#output = tf.mul(input1, input2) # deprecated!\n",
    "output = tf.multiply(input1, input2)\n",
    "\n",
    "\n",
    "init = tf.global_variables_initializer()   # create nodes in the graph\n",
    "with tf.Session() as sess:\n",
    "    init.run()\n",
    "    print(sess.run([output], feed_dict={input1:[7.], input2:[2.]}))  #   7 x 2 = 14"
   ]
  },
  {
   "cell_type": "markdown",
   "metadata": {},
   "source": [
    "# References"
   ]
  },
  {
   "cell_type": "raw",
   "metadata": {},
   "source": [
    "[1] https://github.com/ageron/handson-ml\n",
    "[2] https://github.com/ageron/handson-ml/blob/master/09_up_and_running_with_tensorflow.ipynb\n",
    "[3] https://cs224d.stanford.edu/lectures/CS224d-Lecture7.pdf"
   ]
  }
 ],
 "metadata": {
  "kernelspec": {
   "display_name": "Python [conda env:tensorflow]",
   "language": "python",
   "name": "conda-env-tensorflow-py"
  },
  "language_info": {
   "codemirror_mode": {
    "name": "ipython",
    "version": 3
   },
   "file_extension": ".py",
   "mimetype": "text/x-python",
   "name": "python",
   "nbconvert_exporter": "python",
   "pygments_lexer": "ipython3",
   "version": "3.5.2"
  }
 },
 "nbformat": 4,
 "nbformat_minor": 2
}
