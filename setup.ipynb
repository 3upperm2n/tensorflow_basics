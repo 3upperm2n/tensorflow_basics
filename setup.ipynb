{
 "cells": [
  {
   "cell_type": "markdown",
   "metadata": {},
   "source": [
    "### prepare for tensforflow gpu version"
   ]
  },
  {
   "cell_type": "markdown",
   "metadata": {},
   "source": [
    "* Download cudnn 8.0 from nvidia website.\n",
    "```\n",
    "$wget http://developer.download.nvidia.com/compute/redist/cudnn/v6.0/cudnn-8.0-linux-x64-v6.0.tgz\n",
    "```\n",
    "\n",
    "The tensorflow version I will install is tensorflow_gpu-1.4.0, which depends on cuda 8.0 and its corresponding cudnn lib.\n",
    "\n",
    "We need to make sure the cuda 8.0 is install under /usr/local/."
   ]
  },
  {
   "cell_type": "markdown",
   "metadata": {},
   "source": [
    "* Unzip the cudnn file, copy to   /usr/local/cuda-8.0/include and lib64\n",
    "\n",
    "```\n",
    "$sudo cp cuda/include/cudnn.h  /usr/local/cuda-8.0/include/\n",
    "$sudo cp cuda/lib64/libcudnn*  /usr/local/cuda-8.0/lib64/\n",
    "```\n",
    "\n",
    "After this, the cuda env setup is done. Next, we will install the python env."
   ]
  },
  {
   "cell_type": "markdown",
   "metadata": {},
   "source": [
    "### Configure python env using anaconda"
   ]
  },
  {
   "cell_type": "markdown",
   "metadata": {},
   "source": [
    "##### [1] ubuntu"
   ]
  },
  {
   "cell_type": "markdown",
   "metadata": {},
   "source": [
    "* Download anaconda (a python package management software)\n",
    "\n",
    "https://www.anaconda.com/download/#linux\n",
    "\n",
    "```\n",
    "$wget -c https://repo.anaconda.com/archive/Anaconda2-5.2.0-Linux-x86_64.sh\n",
    "\n",
    "$sh Anaconda2-5.2.0-Linux-x86_64.sh \n",
    "\n",
    "$source ~/.bashrc\n",
    "```"
   ]
  },
  {
   "cell_type": "markdown",
   "metadata": {},
   "source": [
    "* Create an environment for tensorflow\n",
    "\n",
    "I am using python 2.x to create \"tf_lab\"\n",
    "```\n",
    "$conda create -n tf_lab python=2.7\n",
    "```\n",
    "\n",
    "    \n",
    "[1] https://conda.io/docs/user-guide/tasks/manage-environments.html\n",
    "    \n",
    "[2] https://conda.io/docs/user-guide/tasks/manage-python.html"
   ]
  },
  {
   "cell_type": "markdown",
   "metadata": {},
   "source": [
    "* Activate \"tf_lab\" before using it.\n",
    "```\n",
    "$source activate tf_lab\n",
    "```"
   ]
  },
  {
   "cell_type": "markdown",
   "metadata": {},
   "source": [
    "##### option 1 : install tensorflow cpu version"
   ]
  },
  {
   "cell_type": "markdown",
   "metadata": {},
   "source": [
    "Check tf website for different versions.\n",
    "\n",
    "```\n",
    "$pip install --ignore-installed --upgrade https://storage.googleapis.com/tensorflow/linux/cpu/tensorflow-1.6.0-cp27-none-linux_x86_64.whl\n",
    "```\n",
    "\n",
    "\n",
    "Check your tensorflow version,\n",
    "```\n",
    "$python -c 'import tensorflow as tf; print(tf.__version__)'\n",
    "```\n",
    "\n",
    "You should see the version info in the terminal like below.\n",
    "```\n",
    "1.6.0\n",
    "```"
   ]
  },
  {
   "cell_type": "markdown",
   "metadata": {},
   "source": [
    "##### option 2: install tensorflow gpu version"
   ]
  },
  {
   "cell_type": "markdown",
   "metadata": {},
   "source": [
    "\n",
    "* Install tensorflow_gpu-1.4.0 \n",
    "```\n",
    "$pip install --ignore-installed --upgrade https://storage.googleapis.com/tensorflow/linux/gpu/tensorflow_gpu-1.4.0-cp27-none-linux_x86_64.whl\n",
    "```\n",
    "For more info, please refer to the tensorfow website.\n",
    "\n",
    "https://www.tensorflow.org/install/install_linux\n",
    "\n",
    "\n",
    "* Check the installed tensflow version.\n",
    "```\n",
    "$wget -c https://raw.githubusercontent.com/3upperm2n/handson_tensorflow/master/check_version.py  -P /tmp\n",
    "$python /tmp/check_version.py\n",
    "```\n",
    "\n",
    "It will report something like below. Then you are all set!\n",
    "```\n",
    "leiming@homedesktop:~$ python /tmp/check_version.py\n",
    "TensorFlow Version: 1.4.0\n",
    "```\n"
   ]
  },
  {
   "cell_type": "markdown",
   "metadata": {},
   "source": [
    "##### [2] MAC "
   ]
  },
  {
   "cell_type": "markdown",
   "metadata": {},
   "source": [
    "Install anaconda \n",
    "\n",
    "https://www.anaconda.com/download/#macos"
   ]
  },
  {
   "cell_type": "markdown",
   "metadata": {},
   "source": [
    "after installation, in your ~/.bash_profile, you should have a line looks like below.\n",
    "\n",
    "\n",
    "```bash\n",
    "# added by Anaconda2 4.2.0 installer\n",
    "export PATH=\"/Users/leiming/anaconda2/bin:$PATH\"\n",
    "```"
   ]
  },
  {
   "cell_type": "markdown",
   "metadata": {},
   "source": [
    "To install tensorflow (cpu)\n",
    "\n",
    "\n",
    "run the following command in your terminal\n",
    "```\n",
    "pip install --ignore-installed --upgrade https://storage.googleapis.com/tensorflow/mac/cpu/tensorflow-1.8.0-py2-none-any.whl\n",
    "```\n",
    "\n",
    "for more info\n",
    "\n",
    "https://www.tensorflow.org/install/install_mac"
   ]
  },
  {
   "cell_type": "markdown",
   "metadata": {},
   "source": [
    "### Others"
   ]
  },
  {
   "cell_type": "markdown",
   "metadata": {},
   "source": [
    "* Exit the env\n",
    "After the experiment, you need to exit the env.\n",
    "```\n",
    "$source deactivate\n",
    "```\n",
    "\n",
    "* Delete the env\n",
    "In case something went south, you need to delete \"tf_lab\".\n",
    "```\n",
    "$conda remove --name tf_lab --all\n",
    "```\n",
    "\n",
    "* To check all the available env list,\n",
    "```\n",
    "$conda info --envs\n",
    "```"
   ]
  }
 ],
 "metadata": {
  "kernelspec": {
   "display_name": "Python [default]",
   "language": "python",
   "name": "python2"
  },
  "language_info": {
   "codemirror_mode": {
    "name": "ipython",
    "version": 2
   },
   "file_extension": ".py",
   "mimetype": "text/x-python",
   "name": "python",
   "nbconvert_exporter": "python",
   "pygments_lexer": "ipython2",
   "version": "2.7.13"
  }
 },
 "nbformat": 4,
 "nbformat_minor": 2
}
